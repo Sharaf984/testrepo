{
    "cells": [
        {
            "metadata": {},
            "cell_type": "markdown",
            "source": "Abdullah Sharaf database"
        },
        {
            "metadata": {},
            "cell_type": "code",
            "source": "\nimport types\nimport pandas as pd\nfrom botocore.client import Config\nimport ibm_boto3\n\ndef __iter__(self): return 0\n\n# @hidden_cell\n# The following code accesses a file in your IBM Cloud Object Storage. It includes your credentials.\n# You might want to remove those credentials before you share the notebook.\nclient_4fdaf2e1d81c463584c3bfdbc077eb6a = ibm_boto3.client(service_name='s3',\n    ibm_api_key_id='yDNuHEQyN-uoWLaIa3dhTSWG6j9dSOBqttlINtIe_mee',\n    ibm_auth_endpoint=\"https://iam.cloud.ibm.com/oidc/token\",\n    config=Config(signature_version='oauth'),\n    endpoint_url='https://s3.ap-geo.objectstorage.service.networklayer.com')\n\nbody = client_4fdaf2e1d81c463584c3bfdbc077eb6a.get_object(Bucket='data2pro-donotdelete-pr-rvafic2ieqktfj',Key='test.csv')['Body']\n# add missing __iter__ method, so pandas accepts body as file-like object\nif not hasattr(body, \"__iter__\"): body.__iter__ = types.MethodType( __iter__, body )\n\ndf_data_1 = pd.read_csv(body)\ndf_data_1.head()\n",
            "execution_count": 1,
            "outputs": [
                {
                    "output_type": "execute_result",
                    "execution_count": 1,
                    "data": {
                        "text/plain": "           id                                            premise  \\\n0  c6d58c3f69  \u0628\u06a9\u0633\u060c \u06a9\u06cc\u0633\u06cc\u060c \u0631\u0627\u06c1\u06cc\u0644\u060c \u06cc\u0633\u0639\u06cc\u0627\u06c1\u060c \u06a9\u06cc\u0644\u06cc\u060c \u06a9\u06cc\u0644\u06cc\u060c \u0627\u0648\u0631 \u06a9\u0648\u0644\u0645...   \n1  cefcc82292                             \u0647\u0630\u0627 \u0647\u0648 \u0645\u0627 \u062a\u0645 \u0646\u0635\u062d\u0646\u0627 \u0628\u0647.   \n2  e98005252c  et cela est en grande partie d\u00fb au fait que le...   \n3  58518c10ba                   \u4e0e\u57ce\u5e02\u53ca\u5176\u4ed6\u516c\u6c11\u53ca\u793e\u533a\u7ec4\u7ec7\u4ee3\u8868\u5c31IMA\u7684\u827a\u672f\u53d1\u5c55\u8fdb\u884c\u5bf9\u8bdd&amp   \n4  c32b0d16df                              \u041e\u043d\u0430 \u0432\u0441\u0435 \u0435\u0449\u0435 \u0431\u044b\u043b\u0430 \u0442\u0430\u043c.   \n\n                                          hypothesis lang_abv language  \n0  \u06a9\u06cc\u0633\u06cc \u06a9\u06d2 \u0644\u0626\u06d2 \u06a9\u0648\u0626\u06cc \u06cc\u0627\u062f\u06af\u0627\u0631 \u0646\u06c1\u06cc\u06ba \u06c1\u0648\u06af\u0627, \u06a9\u0648\u0644\u0645\u06cc\u0646 \u06c1\u0627\u0626\u06cc...       ur     Urdu  \n1  \u0639\u0646\u062f\u0645\u0627 \u064a\u062a\u0645 \u0625\u062e\u0628\u0627\u0631\u0647\u0645 \u0628\u0645\u0627 \u064a\u062c\u0628 \u0639\u0644\u064a\u0647\u0645 \u0641\u0639\u0644\u0647 \u060c \u0641\u0634\u0644\u062a \u0627\u0644...       ar   Arabic  \n2                             Les m\u00e8res se droguent.       fr   French  \n3                            IMA\u4e0e\u5176\u4ed6\u7ec4\u7ec7\u5408\u4f5c\uff0c\u56e0\u4e3a\u5b83\u4eec\u90fd\u4f9d\u9760\u5171\u4eab\u8d44\u91d1\u3002       zh  Chinese  \n4     \u041c\u044b \u0434\u0443\u043c\u0430\u043b\u0438, \u0447\u0442\u043e \u043e\u043d\u0430 \u0443\u0448\u043b\u0430, \u043e\u0434\u043d\u0430\u043a\u043e, \u043e\u043d\u0430 \u043e\u0441\u0442\u0430\u043b\u0430\u0441\u044c.       ru  Russian  ",
                        "text/html": "<div>\n<style scoped>\n    .dataframe tbody tr th:only-of-type {\n        vertical-align: middle;\n    }\n\n    .dataframe tbody tr th {\n        vertical-align: top;\n    }\n\n    .dataframe thead th {\n        text-align: right;\n    }\n</style>\n<table border=\"1\" class=\"dataframe\">\n  <thead>\n    <tr style=\"text-align: right;\">\n      <th></th>\n      <th>id</th>\n      <th>premise</th>\n      <th>hypothesis</th>\n      <th>lang_abv</th>\n      <th>language</th>\n    </tr>\n  </thead>\n  <tbody>\n    <tr>\n      <th>0</th>\n      <td>c6d58c3f69</td>\n      <td>\u0628\u06a9\u0633\u060c \u06a9\u06cc\u0633\u06cc\u060c \u0631\u0627\u06c1\u06cc\u0644\u060c \u06cc\u0633\u0639\u06cc\u0627\u06c1\u060c \u06a9\u06cc\u0644\u06cc\u060c \u06a9\u06cc\u0644\u06cc\u060c \u0627\u0648\u0631 \u06a9\u0648\u0644\u0645...</td>\n      <td>\u06a9\u06cc\u0633\u06cc \u06a9\u06d2 \u0644\u0626\u06d2 \u06a9\u0648\u0626\u06cc \u06cc\u0627\u062f\u06af\u0627\u0631 \u0646\u06c1\u06cc\u06ba \u06c1\u0648\u06af\u0627, \u06a9\u0648\u0644\u0645\u06cc\u0646 \u06c1\u0627\u0626\u06cc...</td>\n      <td>ur</td>\n      <td>Urdu</td>\n    </tr>\n    <tr>\n      <th>1</th>\n      <td>cefcc82292</td>\n      <td>\u0647\u0630\u0627 \u0647\u0648 \u0645\u0627 \u062a\u0645 \u0646\u0635\u062d\u0646\u0627 \u0628\u0647.</td>\n      <td>\u0639\u0646\u062f\u0645\u0627 \u064a\u062a\u0645 \u0625\u062e\u0628\u0627\u0631\u0647\u0645 \u0628\u0645\u0627 \u064a\u062c\u0628 \u0639\u0644\u064a\u0647\u0645 \u0641\u0639\u0644\u0647 \u060c \u0641\u0634\u0644\u062a \u0627\u0644...</td>\n      <td>ar</td>\n      <td>Arabic</td>\n    </tr>\n    <tr>\n      <th>2</th>\n      <td>e98005252c</td>\n      <td>et cela est en grande partie d\u00fb au fait que le...</td>\n      <td>Les m\u00e8res se droguent.</td>\n      <td>fr</td>\n      <td>French</td>\n    </tr>\n    <tr>\n      <th>3</th>\n      <td>58518c10ba</td>\n      <td>\u4e0e\u57ce\u5e02\u53ca\u5176\u4ed6\u516c\u6c11\u53ca\u793e\u533a\u7ec4\u7ec7\u4ee3\u8868\u5c31IMA\u7684\u827a\u672f\u53d1\u5c55\u8fdb\u884c\u5bf9\u8bdd&amp;amp</td>\n      <td>IMA\u4e0e\u5176\u4ed6\u7ec4\u7ec7\u5408\u4f5c\uff0c\u56e0\u4e3a\u5b83\u4eec\u90fd\u4f9d\u9760\u5171\u4eab\u8d44\u91d1\u3002</td>\n      <td>zh</td>\n      <td>Chinese</td>\n    </tr>\n    <tr>\n      <th>4</th>\n      <td>c32b0d16df</td>\n      <td>\u041e\u043d\u0430 \u0432\u0441\u0435 \u0435\u0449\u0435 \u0431\u044b\u043b\u0430 \u0442\u0430\u043c.</td>\n      <td>\u041c\u044b \u0434\u0443\u043c\u0430\u043b\u0438, \u0447\u0442\u043e \u043e\u043d\u0430 \u0443\u0448\u043b\u0430, \u043e\u0434\u043d\u0430\u043a\u043e, \u043e\u043d\u0430 \u043e\u0441\u0442\u0430\u043b\u0430\u0441\u044c.</td>\n      <td>ru</td>\n      <td>Russian</td>\n    </tr>\n  </tbody>\n</table>\n</div>"
                    },
                    "metadata": {}
                }
            ]
        },
        {
            "metadata": {},
            "cell_type": "code",
            "source": "",
            "execution_count": null,
            "outputs": []
        }
    ],
    "metadata": {
        "kernelspec": {
            "name": "python3",
            "display_name": "Python 3.6",
            "language": "python"
        },
        "language_info": {
            "name": "python",
            "version": "3.6.9",
            "mimetype": "text/x-python",
            "codemirror_mode": {
                "name": "ipython",
                "version": 3
            },
            "pygments_lexer": "ipython3",
            "nbconvert_exporter": "python",
            "file_extension": ".py"
        }
    },
    "nbformat": 4,
    "nbformat_minor": 1
}